{
  "nbformat": 4,
  "nbformat_minor": 0,
  "metadata": {
    "colab": {
      "provenance": [],
      "collapsed_sections": [],
      "authorship_tag": "ABX9TyNxYJAb6hzEGxnm6N1zr0bw",
      "include_colab_link": true
    },
    "kernelspec": {
      "name": "python3",
      "display_name": "Python 3"
    },
    "language_info": {
      "name": "python"
    }
  },
  "cells": [
    {
      "cell_type": "markdown",
      "metadata": {
        "id": "view-in-github",
        "colab_type": "text"
      },
      "source": [
        "<a href=\"https://colab.research.google.com/github/ash0023/DS_ML_Proj_portfolio/blob/main/imdb_web_scrap.ipynb\" target=\"_parent\"><img src=\"https://colab.research.google.com/assets/colab-badge.svg\" alt=\"Open In Colab\"/></a>"
      ]
    },
    {
      "cell_type": "code",
      "execution_count": 17,
      "metadata": {
        "id": "PA7Biwgp6QX3"
      },
      "outputs": [],
      "source": [
        "from bs4 import BeautifulSoup\n",
        "import requests,openpyxl"
      ]
    },
    {
      "cell_type": "code",
      "source": [
        "excel = openpyxl.Workbook()\n",
        "print(excel.sheetnames)\n",
        "sheet = excel.active\n",
        "sheet.title = 'Top Rated Movies'\n",
        "print(excel.sheetnames)\n",
        "sheet.append (['MoviesRank','Movies Name','Year of Release', 'IMDB Rating'])"
      ],
      "metadata": {
        "colab": {
          "base_uri": "https://localhost:8080/"
        },
        "id": "YENkZC1_69Hi",
        "outputId": "e2796d3c-337a-468a-a10b-b7bcaa39c79d"
      },
      "execution_count": 19,
      "outputs": [
        {
          "output_type": "stream",
          "name": "stdout",
          "text": [
            "['Sheet']\n",
            "['Top Rated Movies']\n"
          ]
        }
      ]
    },
    {
      "cell_type": "code",
      "source": [
        "try:\n",
        "  source = requests.get('https://www.imdb.com/chart/top/')\n",
        "  source.raise_for_status() # used to check weather website is valid or not\n",
        "\n",
        "  soup = BeautifulSoup(source.text, 'html.parser')\n",
        "  #print(soup)\n",
        "\n",
        "  movies = soup.find('tbody', class_ =\"lister-list\").find_all('tr')#taking out the list of movies from web\n",
        "\n",
        "  for movie in movies:\n",
        "    name = movie.find('td', class_= 'titleColumn').a.text # a.text is for finding the text in the tag a\n",
        "\n",
        "    rank = movie.find('td', class_= 'titleColumn').get_text(strip = True).split('.')[0]\n",
        "    \n",
        "    year= movie.find('td', class_= 'titleColumn').span.text.strip('()')\n",
        "    \n",
        "    rating=  movie.find('td', class_= 'ratingColumn imdbRating').strong.text\n",
        "    \n",
        "    print(rating)\n",
        "    sheet.append([rank,name,year,rating])\n",
        "    break\n",
        "except Exception as e:\n",
        "  print(e )"
      ],
      "metadata": {
        "colab": {
          "base_uri": "https://localhost:8080/"
        },
        "id": "JLl4jZRU69KU",
        "outputId": "4c9a28e1-b526-4066-dd3c-09b7bf9ccd17"
      },
      "execution_count": 20,
      "outputs": [
        {
          "output_type": "stream",
          "name": "stdout",
          "text": [
            "9.2\n"
          ]
        }
      ]
    },
    {
      "cell_type": "code",
      "source": [
        "excel.save('IMDB Movie Rating.xlsv')"
      ],
      "metadata": {
        "id": "MeOSco6M69E4"
      },
      "execution_count": 21,
      "outputs": []
    },
    {
      "cell_type": "code",
      "source": [],
      "metadata": {
        "id": "s9nacQMu68z-"
      },
      "execution_count": null,
      "outputs": []
    },
    {
      "cell_type": "code",
      "source": [],
      "metadata": {
        "id": "LOvWX-Xn68ub"
      },
      "execution_count": null,
      "outputs": []
    },
    {
      "cell_type": "code",
      "source": [],
      "metadata": {
        "id": "IakviOLO68rR"
      },
      "execution_count": null,
      "outputs": []
    },
    {
      "cell_type": "code",
      "source": [],
      "metadata": {
        "id": "HmZXjrFY68hZ"
      },
      "execution_count": null,
      "outputs": []
    },
    {
      "cell_type": "code",
      "source": [],
      "metadata": {
        "id": "tKQZQQYO68M4"
      },
      "execution_count": null,
      "outputs": []
    },
    {
      "cell_type": "code",
      "source": [],
      "metadata": {
        "id": "NwR0vj4p68Da"
      },
      "execution_count": null,
      "outputs": []
    },
    {
      "cell_type": "code",
      "source": [],
      "metadata": {
        "id": "Vxe-ohWy679x"
      },
      "execution_count": null,
      "outputs": []
    },
    {
      "cell_type": "code",
      "source": [],
      "metadata": {
        "id": "62QsQhNi67i1"
      },
      "execution_count": null,
      "outputs": []
    },
    {
      "cell_type": "code",
      "source": [],
      "metadata": {
        "id": "HgtbIaJ767Vp"
      },
      "execution_count": null,
      "outputs": []
    },
    {
      "cell_type": "code",
      "source": [],
      "metadata": {
        "id": "zkj4u5S867S3"
      },
      "execution_count": null,
      "outputs": []
    }
  ]
}