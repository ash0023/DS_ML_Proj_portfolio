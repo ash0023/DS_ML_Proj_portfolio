{
  "nbformat": 4,
  "nbformat_minor": 0,
  "metadata": {
    "colab": {
      "name": "CNN_DOG_CAT.ipynb",
      "provenance": [],
      "collapsed_sections": [],
      "mount_file_id": "1o7lY-rMMTQAPPplgbtWWqD_AF1lxmN36",
      "authorship_tag": "ABX9TyMDnpJIhcggkl7bHS09wNOU",
      "include_colab_link": true
    },
    "kernelspec": {
      "name": "python3",
      "display_name": "Python 3"
    },
    "language_info": {
      "name": "python"
    }
  },
  "cells": [
    {
      "cell_type": "markdown",
      "metadata": {
        "id": "view-in-github",
        "colab_type": "text"
      },
      "source": [
        "<a href=\"https://colab.research.google.com/github/ash0023/DS_ML_Proj_portfolio/blob/main/CNN_DOG_CAT.ipynb\" target=\"_parent\"><img src=\"https://colab.research.google.com/assets/colab-badge.svg\" alt=\"Open In Colab\"/></a>"
      ]
    },
    {
      "cell_type": "code",
      "execution_count": null,
      "metadata": {
        "id": "RnbxW664KtgL"
      },
      "outputs": [],
      "source": [
        "#Building the CNN\n",
        "from keras.models import Sequential\n",
        "from keras.layers import Convolution2D\n",
        "from keras.layers import MaxPooling2D\n",
        "from keras.layers import Dense\n",
        "from keras.layers import Flatten"
      ]
    },
    {
      "cell_type": "code",
      "source": [
        "#Initializing CNN\n",
        "classifier= Sequential()"
      ],
      "metadata": {
        "id": "o2l93bOuNWCx"
      },
      "execution_count": null,
      "outputs": []
    },
    {
      "cell_type": "code",
      "source": [
        "#Convolution(Step 1)\n",
        "classifier.add(Convolution2D(32,(3,3),input_shape=(64,64,3), activation='relu'))\n"
      ],
      "metadata": {
        "id": "KJhqKoYjNV-Z"
      },
      "execution_count": null,
      "outputs": []
    },
    {
      "cell_type": "code",
      "source": [
        "#pooling(step 2)\n",
        "classifier.add(MaxPooling2D(pool_size=(2,2)))\n",
        "\n"
      ],
      "metadata": {
        "id": "8qoeqBuhNV4l"
      },
      "execution_count": null,
      "outputs": []
    },
    {
      "cell_type": "code",
      "source": [
        "#Adding extra Convolution layer for better accuracy\n",
        "classifier.add(Convolution2D(32,(3,3),input_shape=(64,64,3), activation='relu'))\n",
        "classifier.add(MaxPooling2D(pool_size=(2,2)))"
      ],
      "metadata": {
        "id": "SsJB0O6YnIzr"
      },
      "execution_count": null,
      "outputs": []
    },
    {
      "cell_type": "code",
      "source": [
        "#Flatterning(step 3)\n",
        "classifier.add(Flatten())"
      ],
      "metadata": {
        "id": "TKAzLwphNV1F"
      },
      "execution_count": null,
      "outputs": []
    },
    {
      "cell_type": "code",
      "source": [
        "#Fulll Connection (Step 4)\n",
        "classifier.add(Dense(units=128, activation='relu'))\n",
        "classifier.add(Dense(units=1, activation='sigmoid'))\n"
      ],
      "metadata": {
        "id": "FSJHBfUTNVN1"
      },
      "execution_count": null,
      "outputs": []
    },
    {
      "cell_type": "code",
      "source": [
        "#Compiling CNN\n",
        "classifier.compile(optimizer='adam', loss= 'binary_crossentropy',metrics=['accuracy'])"
      ],
      "metadata": {
        "id": "hR43fZ2ANVKd"
      },
      "execution_count": null,
      "outputs": []
    },
    {
      "cell_type": "code",
      "source": [
        "#Fitting CNN\n",
        "from keras.preprocessing.image import ImageDataGenerator\n",
        "\n",
        "train_datagen = ImageDataGenerator(rescale = 1./255,\n",
        "                                   shear_range = 0.2,\n",
        "                                   zoom_range = 0.2,\n",
        "                                   horizontal_flip = True)\n",
        "\n",
        "test_datagen = ImageDataGenerator(rescale = 1./255)\n",
        "\n",
        "training_set = train_datagen.flow_from_directory('/content/drive/MyDrive/Colab Notebooks/CNN/dataset/training_set',\n",
        "                                                 target_size = (64, 64),\n",
        "                                                 batch_size = 32,\n",
        "                                                 class_mode = 'binary')\n",
        "\n",
        "test_set = test_datagen.flow_from_directory('/content/drive/MyDrive/Colab Notebooks/CNN/dataset/test_set',\n",
        "                                            target_size = (64, 64),\n",
        "                                            batch_size = 32,\n",
        "                                            class_mode = 'binary')\n",
        "\n",
        "classifier.fit_generator(training_set,\n",
        "                          epochs = 25,\n",
        "                          validation_data = test_set,\n",
        "                          validation_steps = 2000)"
      ],
      "metadata": {
        "colab": {
          "base_uri": "https://localhost:8080/"
        },
        "id": "09CEDR_ZNVGy",
        "outputId": "6da7623f-2502-4b27-d1b5-b772a1be820e"
      },
      "execution_count": null,
      "outputs": [
        {
          "metadata": {
            "tags": null
          },
          "name": "stdout",
          "output_type": "stream",
          "text": [
            "Found 8000 images belonging to 2 classes.\n",
            "Found 2000 images belonging to 2 classes.\n"
          ]
        },
        {
          "metadata": {
            "tags": null
          },
          "name": "stderr",
          "output_type": "stream",
          "text": [
            "/usr/local/lib/python3.7/dist-packages/ipykernel_launcher.py:24: UserWarning: `Model.fit_generator` is deprecated and will be removed in a future version. Please use `Model.fit`, which supports generators.\n"
          ]
        },
        {
          "output_type": "stream",
          "name": "stdout",
          "text": [
            "Epoch 1/25\n",
            "250/250 [==============================] - ETA: 0s - loss: 0.6762 - accuracy: 0.5813WARNING:tensorflow:Your input ran out of data; interrupting training. Make sure that your dataset or generator can generate at least `steps_per_epoch * epochs` batches (in this case, 2000 batches). You may need to use the repeat() function when building your dataset.\n",
            "250/250 [==============================] - 1808s 7s/step - loss: 0.6762 - accuracy: 0.5813 - val_loss: 0.6230 - val_accuracy: 0.6830\n",
            "Epoch 2/25\n",
            "250/250 [==============================] - 74s 297ms/step - loss: 0.6090 - accuracy: 0.6670\n",
            "Epoch 3/25\n",
            "250/250 [==============================] - 74s 295ms/step - loss: 0.5550 - accuracy: 0.7129\n",
            "Epoch 4/25\n",
            "250/250 [==============================] - 74s 295ms/step - loss: 0.5207 - accuracy: 0.7402\n",
            "Epoch 5/25\n",
            "250/250 [==============================] - 74s 294ms/step - loss: 0.4989 - accuracy: 0.7529\n",
            "Epoch 6/25\n",
            "250/250 [==============================] - 73s 292ms/step - loss: 0.4769 - accuracy: 0.7730\n",
            "Epoch 7/25\n",
            "250/250 [==============================] - 74s 295ms/step - loss: 0.4575 - accuracy: 0.7856\n",
            "Epoch 8/25\n",
            "250/250 [==============================] - 73s 292ms/step - loss: 0.4447 - accuracy: 0.7885\n",
            "Epoch 9/25\n",
            "250/250 [==============================] - 74s 295ms/step - loss: 0.4338 - accuracy: 0.8025\n",
            "Epoch 10/25\n",
            "250/250 [==============================] - 73s 294ms/step - loss: 0.4292 - accuracy: 0.7981\n",
            "Epoch 11/25\n",
            "250/250 [==============================] - 73s 290ms/step - loss: 0.4083 - accuracy: 0.8130\n",
            "Epoch 12/25\n",
            "250/250 [==============================] - 73s 291ms/step - loss: 0.3978 - accuracy: 0.8189\n",
            "Epoch 13/25\n",
            "250/250 [==============================] - 72s 289ms/step - loss: 0.3899 - accuracy: 0.8207\n",
            "Epoch 14/25\n",
            "250/250 [==============================] - 73s 293ms/step - loss: 0.3711 - accuracy: 0.8334\n",
            "Epoch 15/25\n",
            "250/250 [==============================] - 72s 286ms/step - loss: 0.3666 - accuracy: 0.8305\n",
            "Epoch 16/25\n",
            "250/250 [==============================] - 71s 285ms/step - loss: 0.3520 - accuracy: 0.8419\n",
            "Epoch 17/25\n",
            "250/250 [==============================] - 72s 289ms/step - loss: 0.3340 - accuracy: 0.8528\n",
            "Epoch 18/25\n",
            "250/250 [==============================] - 73s 292ms/step - loss: 0.3355 - accuracy: 0.8478\n",
            "Epoch 19/25\n",
            "250/250 [==============================] - 74s 295ms/step - loss: 0.3179 - accuracy: 0.8612\n",
            "Epoch 20/25\n",
            "250/250 [==============================] - 74s 294ms/step - loss: 0.3107 - accuracy: 0.8664\n",
            "Epoch 21/25\n",
            "250/250 [==============================] - 73s 293ms/step - loss: 0.2917 - accuracy: 0.8726\n",
            "Epoch 22/25\n",
            "250/250 [==============================] - 75s 298ms/step - loss: 0.2871 - accuracy: 0.8776\n",
            "Epoch 23/25\n",
            "250/250 [==============================] - 74s 297ms/step - loss: 0.2811 - accuracy: 0.8808\n",
            "Epoch 24/25\n",
            "250/250 [==============================] - 73s 292ms/step - loss: 0.2766 - accuracy: 0.8774\n",
            "Epoch 25/25\n",
            "250/250 [==============================] - 73s 293ms/step - loss: 0.2471 - accuracy: 0.9021\n"
          ]
        },
        {
          "output_type": "execute_result",
          "data": {
            "text/plain": [
              "<keras.callbacks.History at 0x7f7260f18e10>"
            ]
          },
          "metadata": {},
          "execution_count": 9
        }
      ]
    },
    {
      "cell_type": "code",
      "source": [
        "import numpy as np\n"
      ],
      "metadata": {
        "id": "LetgKx009hBd"
      },
      "execution_count": null,
      "outputs": []
    },
    {
      "cell_type": "code",
      "source": [
        "from keras.preprocessing import image\n",
        "test_image = image.load_img('/content/drive/MyDrive/Colab Notebooks/CNN/dataset/single_prediction/cat_or_dog_3.jpg', target_size = (64, 64))\n",
        "test_image = image.img_to_array(test_image)\n",
        "test_image = np.expand_dims(test_image, axis = 0)\n"
      ],
      "metadata": {
        "id": "JULhRvRnNVBp",
        "colab": {
          "base_uri": "https://localhost:8080/",
          "height": 375
        },
        "outputId": "95b75d3a-611d-4cbb-93e5-264d4553f305"
      },
      "execution_count": null,
      "outputs": [
        {
          "output_type": "error",
          "ename": "FileNotFoundError",
          "evalue": "ignored",
          "traceback": [
            "\u001b[0;31m---------------------------------------------------------------------------\u001b[0m",
            "\u001b[0;31mFileNotFoundError\u001b[0m                         Traceback (most recent call last)",
            "\u001b[0;32m<ipython-input-23-414703f2ca2d>\u001b[0m in \u001b[0;36m<module>\u001b[0;34m()\u001b[0m\n\u001b[1;32m      1\u001b[0m \u001b[0;32mfrom\u001b[0m \u001b[0mkeras\u001b[0m\u001b[0;34m.\u001b[0m\u001b[0mpreprocessing\u001b[0m \u001b[0;32mimport\u001b[0m \u001b[0mimage\u001b[0m\u001b[0;34m\u001b[0m\u001b[0;34m\u001b[0m\u001b[0m\n\u001b[0;32m----> 2\u001b[0;31m \u001b[0mtest_image\u001b[0m \u001b[0;34m=\u001b[0m \u001b[0mimage\u001b[0m\u001b[0;34m.\u001b[0m\u001b[0mload_img\u001b[0m\u001b[0;34m(\u001b[0m\u001b[0;34m'/content/drive/MyDrive/Colab Notebooks/CNN/dataset/single_prediction/cat_or_dog_3.jpg'\u001b[0m\u001b[0;34m,\u001b[0m \u001b[0mtarget_size\u001b[0m \u001b[0;34m=\u001b[0m \u001b[0;34m(\u001b[0m\u001b[0;36m64\u001b[0m\u001b[0;34m,\u001b[0m \u001b[0;36m64\u001b[0m\u001b[0;34m)\u001b[0m\u001b[0;34m)\u001b[0m\u001b[0;34m\u001b[0m\u001b[0;34m\u001b[0m\u001b[0m\n\u001b[0m\u001b[1;32m      3\u001b[0m \u001b[0mtest_image\u001b[0m \u001b[0;34m=\u001b[0m \u001b[0mimage\u001b[0m\u001b[0;34m.\u001b[0m\u001b[0mimg_to_array\u001b[0m\u001b[0;34m(\u001b[0m\u001b[0mtest_image\u001b[0m\u001b[0;34m)\u001b[0m\u001b[0;34m\u001b[0m\u001b[0;34m\u001b[0m\u001b[0m\n\u001b[1;32m      4\u001b[0m \u001b[0mtest_image\u001b[0m \u001b[0;34m=\u001b[0m \u001b[0mnp\u001b[0m\u001b[0;34m.\u001b[0m\u001b[0mexpand_dims\u001b[0m\u001b[0;34m(\u001b[0m\u001b[0mtest_image\u001b[0m\u001b[0;34m,\u001b[0m \u001b[0maxis\u001b[0m \u001b[0;34m=\u001b[0m \u001b[0;36m0\u001b[0m\u001b[0;34m)\u001b[0m\u001b[0;34m\u001b[0m\u001b[0;34m\u001b[0m\u001b[0m\n",
            "\u001b[0;32m/usr/local/lib/python3.7/dist-packages/keras/preprocessing/image.py\u001b[0m in \u001b[0;36mload_img\u001b[0;34m(path, grayscale, color_mode, target_size, interpolation)\u001b[0m\n\u001b[1;32m    312\u001b[0m   \"\"\"\n\u001b[1;32m    313\u001b[0m   return image.load_img(path, grayscale=grayscale, color_mode=color_mode,\n\u001b[0;32m--> 314\u001b[0;31m                         target_size=target_size, interpolation=interpolation)\n\u001b[0m\u001b[1;32m    315\u001b[0m \u001b[0;34m\u001b[0m\u001b[0m\n\u001b[1;32m    316\u001b[0m \u001b[0;34m\u001b[0m\u001b[0m\n",
            "\u001b[0;32m/usr/local/lib/python3.7/dist-packages/keras_preprocessing/image/utils.py\u001b[0m in \u001b[0;36mload_img\u001b[0;34m(path, grayscale, color_mode, target_size, interpolation)\u001b[0m\n\u001b[1;32m    111\u001b[0m         raise ImportError('Could not import PIL.Image. '\n\u001b[1;32m    112\u001b[0m                           'The use of `load_img` requires PIL.')\n\u001b[0;32m--> 113\u001b[0;31m     \u001b[0;32mwith\u001b[0m \u001b[0mopen\u001b[0m\u001b[0;34m(\u001b[0m\u001b[0mpath\u001b[0m\u001b[0;34m,\u001b[0m \u001b[0;34m'rb'\u001b[0m\u001b[0;34m)\u001b[0m \u001b[0;32mas\u001b[0m \u001b[0mf\u001b[0m\u001b[0;34m:\u001b[0m\u001b[0;34m\u001b[0m\u001b[0;34m\u001b[0m\u001b[0m\n\u001b[0m\u001b[1;32m    114\u001b[0m         \u001b[0mimg\u001b[0m \u001b[0;34m=\u001b[0m \u001b[0mpil_image\u001b[0m\u001b[0;34m.\u001b[0m\u001b[0mopen\u001b[0m\u001b[0;34m(\u001b[0m\u001b[0mio\u001b[0m\u001b[0;34m.\u001b[0m\u001b[0mBytesIO\u001b[0m\u001b[0;34m(\u001b[0m\u001b[0mf\u001b[0m\u001b[0;34m.\u001b[0m\u001b[0mread\u001b[0m\u001b[0;34m(\u001b[0m\u001b[0;34m)\u001b[0m\u001b[0;34m)\u001b[0m\u001b[0;34m)\u001b[0m\u001b[0;34m\u001b[0m\u001b[0;34m\u001b[0m\u001b[0m\n\u001b[1;32m    115\u001b[0m         \u001b[0;32mif\u001b[0m \u001b[0mcolor_mode\u001b[0m \u001b[0;34m==\u001b[0m \u001b[0;34m'grayscale'\u001b[0m\u001b[0;34m:\u001b[0m\u001b[0;34m\u001b[0m\u001b[0;34m\u001b[0m\u001b[0m\n",
            "\u001b[0;31mFileNotFoundError\u001b[0m: [Errno 2] No such file or directory: '/content/drive/MyDrive/Colab Notebooks/CNN/dataset/single_prediction/cat_or_dog_3.jpg'"
          ]
        }
      ]
    },
    {
      "cell_type": "code",
      "source": [
        "result = classifier.predict(test_image)\n",
        "training_set.class_indices\n",
        "if result[0][0] == 1:\n",
        "    prediction = 'dog'\n",
        "else:\n",
        "    prediction = 'cat'"
      ],
      "metadata": {
        "id": "Ui5tc9EANU9_"
      },
      "execution_count": null,
      "outputs": []
    },
    {
      "cell_type": "code",
      "source": [
        "prediction"
      ],
      "metadata": {
        "id": "Ydnvtn3yNU57",
        "colab": {
          "base_uri": "https://localhost:8080/",
          "height": 35
        },
        "outputId": "6736be3a-d9b2-4b02-a825-57547b8768d8"
      },
      "execution_count": null,
      "outputs": [
        {
          "output_type": "execute_result",
          "data": {
            "text/plain": [
              "'cat'"
            ],
            "application/vnd.google.colaboratory.intrinsic+json": {
              "type": "string"
            }
          },
          "metadata": {},
          "execution_count": 20
        }
      ]
    },
    {
      "cell_type": "code",
      "source": [
        ""
      ],
      "metadata": {
        "id": "t3ATvjqwNU1L"
      },
      "execution_count": null,
      "outputs": []
    },
    {
      "cell_type": "code",
      "source": [
        ""
      ],
      "metadata": {
        "id": "oZnkUH32NUwG"
      },
      "execution_count": null,
      "outputs": []
    },
    {
      "cell_type": "code",
      "source": [
        ""
      ],
      "metadata": {
        "id": "XNFqqkqANUsg"
      },
      "execution_count": null,
      "outputs": []
    },
    {
      "cell_type": "code",
      "source": [
        ""
      ],
      "metadata": {
        "id": "etK8i66lNUoA"
      },
      "execution_count": null,
      "outputs": []
    },
    {
      "cell_type": "code",
      "source": [
        ""
      ],
      "metadata": {
        "id": "rBWwKv6ONUj1"
      },
      "execution_count": null,
      "outputs": []
    },
    {
      "cell_type": "code",
      "source": [
        ""
      ],
      "metadata": {
        "id": "pKcYnNVsNUfC"
      },
      "execution_count": null,
      "outputs": []
    },
    {
      "cell_type": "code",
      "source": [
        ""
      ],
      "metadata": {
        "id": "hH3dzEMANUY5"
      },
      "execution_count": null,
      "outputs": []
    }
  ]
}